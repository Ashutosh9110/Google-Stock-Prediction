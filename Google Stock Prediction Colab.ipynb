{
  "cells": [
    {
      "cell_type": "markdown",
      "metadata": {
        "id": "FwGR2MPFr9CC"
      },
      "source": [
        "Installation and Set up"
      ]
    },
    {
      "cell_type": "code",
      "execution_count": null,
      "metadata": {
        "id": "GvnLvE3sr9rb"
      },
      "outputs": [],
      "source": []
    },
    {
      "cell_type": "markdown",
      "metadata": {
        "id": "oKZ79AW3sBIj"
      },
      "source": [
        "Installation and Set up"
      ]
    },
    {
      "cell_type": "code",
      "execution_count": null,
      "metadata": {
        "colab": {
          "base_uri": "https://localhost:8080/",
          "height": 1000
        },
        "id": "F_Y1oOlhuxMe",
        "outputId": "cfc423b0-4b77-40f1-df46-0343ec063cdd"
      },
      "outputs": [
        {
          "name": "stdout",
          "output_type": "stream",
          "text": [
            "Looking in indexes: https://pypi.org/simple, https://us-python.pkg.dev/colab-wheels/public/simple/\n",
            "Collecting tensorflow_gpu\n",
            "  Downloading tensorflow_gpu-2.11.0-cp38-cp38-manylinux_2_17_x86_64.manylinux2014_x86_64.whl (588.3 MB)\n",
            "\u001b[K     |████████████████████████████████| 588.3 MB 17 kB/s \n",
            "\u001b[?25hRequirement already satisfied: protobuf<3.20,>=3.9.2 in /usr/local/lib/python3.8/dist-packages (from tensorflow_gpu) (3.19.6)\n",
            "Collecting tensorboard<2.12,>=2.11\n",
            "  Downloading tensorboard-2.11.0-py3-none-any.whl (6.0 MB)\n",
            "\u001b[K     |████████████████████████████████| 6.0 MB 40.9 MB/s \n",
            "\u001b[?25hRequirement already satisfied: h5py>=2.9.0 in /usr/local/lib/python3.8/dist-packages (from tensorflow_gpu) (3.1.0)\n",
            "Requirement already satisfied: gast<=0.4.0,>=0.2.1 in /usr/local/lib/python3.8/dist-packages (from tensorflow_gpu) (0.4.0)\n",
            "Collecting tensorflow-estimator<2.12,>=2.11.0\n",
            "  Downloading tensorflow_estimator-2.11.0-py2.py3-none-any.whl (439 kB)\n",
            "\u001b[K     |████████████████████████████████| 439 kB 52.8 MB/s \n",
            "\u001b[?25hCollecting keras<2.12,>=2.11.0\n",
            "  Downloading keras-2.11.0-py2.py3-none-any.whl (1.7 MB)\n",
            "\u001b[K     |████████████████████████████████| 1.7 MB 54.2 MB/s \n",
            "\u001b[?25hRequirement already satisfied: packaging in /usr/local/lib/python3.8/dist-packages (from tensorflow_gpu) (21.3)\n",
            "Requirement already satisfied: numpy>=1.20 in /usr/local/lib/python3.8/dist-packages (from tensorflow_gpu) (1.21.6)\n",
            "Requirement already satisfied: wrapt>=1.11.0 in /usr/local/lib/python3.8/dist-packages (from tensorflow_gpu) (1.14.1)\n",
            "Requirement already satisfied: termcolor>=1.1.0 in /usr/local/lib/python3.8/dist-packages (from tensorflow_gpu) (2.1.1)\n",
            "Requirement already satisfied: setuptools in /usr/local/lib/python3.8/dist-packages (from tensorflow_gpu) (57.4.0)\n",
            "Requirement already satisfied: opt-einsum>=2.3.2 in /usr/local/lib/python3.8/dist-packages (from tensorflow_gpu) (3.3.0)\n",
            "Requirement already satisfied: six>=1.12.0 in /usr/local/lib/python3.8/dist-packages (from tensorflow_gpu) (1.15.0)\n",
            "Requirement already satisfied: typing-extensions>=3.6.6 in /usr/local/lib/python3.8/dist-packages (from tensorflow_gpu) (4.4.0)\n",
            "Collecting flatbuffers>=2.0\n",
            "  Downloading flatbuffers-22.12.6-py2.py3-none-any.whl (26 kB)\n",
            "Requirement already satisfied: libclang>=13.0.0 in /usr/local/lib/python3.8/dist-packages (from tensorflow_gpu) (14.0.6)\n",
            "Requirement already satisfied: astunparse>=1.6.0 in /usr/local/lib/python3.8/dist-packages (from tensorflow_gpu) (1.6.3)\n",
            "Requirement already satisfied: absl-py>=1.0.0 in /usr/local/lib/python3.8/dist-packages (from tensorflow_gpu) (1.3.0)\n",
            "Requirement already satisfied: grpcio<2.0,>=1.24.3 in /usr/local/lib/python3.8/dist-packages (from tensorflow_gpu) (1.51.1)\n",
            "Requirement already satisfied: tensorflow-io-gcs-filesystem>=0.23.1 in /usr/local/lib/python3.8/dist-packages (from tensorflow_gpu) (0.28.0)\n",
            "Requirement already satisfied: google-pasta>=0.1.1 in /usr/local/lib/python3.8/dist-packages (from tensorflow_gpu) (0.2.0)\n",
            "Requirement already satisfied: wheel<1.0,>=0.23.0 in /usr/local/lib/python3.8/dist-packages (from astunparse>=1.6.0->tensorflow_gpu) (0.38.4)\n",
            "Requirement already satisfied: google-auth-oauthlib<0.5,>=0.4.1 in /usr/local/lib/python3.8/dist-packages (from tensorboard<2.12,>=2.11->tensorflow_gpu) (0.4.6)\n",
            "Requirement already satisfied: werkzeug>=1.0.1 in /usr/local/lib/python3.8/dist-packages (from tensorboard<2.12,>=2.11->tensorflow_gpu) (1.0.1)\n",
            "Requirement already satisfied: requests<3,>=2.21.0 in /usr/local/lib/python3.8/dist-packages (from tensorboard<2.12,>=2.11->tensorflow_gpu) (2.23.0)\n",
            "Requirement already satisfied: tensorboard-plugin-wit>=1.6.0 in /usr/local/lib/python3.8/dist-packages (from tensorboard<2.12,>=2.11->tensorflow_gpu) (1.8.1)\n",
            "Requirement already satisfied: google-auth<3,>=1.6.3 in /usr/local/lib/python3.8/dist-packages (from tensorboard<2.12,>=2.11->tensorflow_gpu) (2.15.0)\n",
            "Requirement already satisfied: tensorboard-data-server<0.7.0,>=0.6.0 in /usr/local/lib/python3.8/dist-packages (from tensorboard<2.12,>=2.11->tensorflow_gpu) (0.6.1)\n",
            "Requirement already satisfied: markdown>=2.6.8 in /usr/local/lib/python3.8/dist-packages (from tensorboard<2.12,>=2.11->tensorflow_gpu) (3.4.1)\n",
            "Requirement already satisfied: rsa<5,>=3.1.4 in /usr/local/lib/python3.8/dist-packages (from google-auth<3,>=1.6.3->tensorboard<2.12,>=2.11->tensorflow_gpu) (4.9)\n",
            "Requirement already satisfied: cachetools<6.0,>=2.0.0 in /usr/local/lib/python3.8/dist-packages (from google-auth<3,>=1.6.3->tensorboard<2.12,>=2.11->tensorflow_gpu) (5.2.0)\n",
            "Requirement already satisfied: pyasn1-modules>=0.2.1 in /usr/local/lib/python3.8/dist-packages (from google-auth<3,>=1.6.3->tensorboard<2.12,>=2.11->tensorflow_gpu) (0.2.8)\n",
            "Requirement already satisfied: requests-oauthlib>=0.7.0 in /usr/local/lib/python3.8/dist-packages (from google-auth-oauthlib<0.5,>=0.4.1->tensorboard<2.12,>=2.11->tensorflow_gpu) (1.3.1)\n",
            "Requirement already satisfied: importlib-metadata>=4.4 in /usr/local/lib/python3.8/dist-packages (from markdown>=2.6.8->tensorboard<2.12,>=2.11->tensorflow_gpu) (5.1.0)\n",
            "Requirement already satisfied: zipp>=0.5 in /usr/local/lib/python3.8/dist-packages (from importlib-metadata>=4.4->markdown>=2.6.8->tensorboard<2.12,>=2.11->tensorflow_gpu) (3.11.0)\n",
            "Requirement already satisfied: pyasn1<0.5.0,>=0.4.6 in /usr/local/lib/python3.8/dist-packages (from pyasn1-modules>=0.2.1->google-auth<3,>=1.6.3->tensorboard<2.12,>=2.11->tensorflow_gpu) (0.4.8)\n",
            "Requirement already satisfied: chardet<4,>=3.0.2 in /usr/local/lib/python3.8/dist-packages (from requests<3,>=2.21.0->tensorboard<2.12,>=2.11->tensorflow_gpu) (3.0.4)\n",
            "Requirement already satisfied: certifi>=2017.4.17 in /usr/local/lib/python3.8/dist-packages (from requests<3,>=2.21.0->tensorboard<2.12,>=2.11->tensorflow_gpu) (2022.12.7)\n",
            "Requirement already satisfied: idna<3,>=2.5 in /usr/local/lib/python3.8/dist-packages (from requests<3,>=2.21.0->tensorboard<2.12,>=2.11->tensorflow_gpu) (2.10)\n",
            "Requirement already satisfied: urllib3!=1.25.0,!=1.25.1,<1.26,>=1.21.1 in /usr/local/lib/python3.8/dist-packages (from requests<3,>=2.21.0->tensorboard<2.12,>=2.11->tensorflow_gpu) (1.24.3)\n",
            "Requirement already satisfied: oauthlib>=3.0.0 in /usr/local/lib/python3.8/dist-packages (from requests-oauthlib>=0.7.0->google-auth-oauthlib<0.5,>=0.4.1->tensorboard<2.12,>=2.11->tensorflow_gpu) (3.2.2)\n",
            "Requirement already satisfied: pyparsing!=3.0.5,>=2.0.2 in /usr/local/lib/python3.8/dist-packages (from packaging->tensorflow_gpu) (3.0.9)\n",
            "Installing collected packages: tensorflow-estimator, tensorboard, keras, flatbuffers, tensorflow-gpu\n",
            "  Attempting uninstall: tensorflow-estimator\n",
            "    Found existing installation: tensorflow-estimator 2.9.0\n",
            "    Uninstalling tensorflow-estimator-2.9.0:\n",
            "      Successfully uninstalled tensorflow-estimator-2.9.0\n",
            "  Attempting uninstall: tensorboard\n",
            "    Found existing installation: tensorboard 2.9.1\n",
            "    Uninstalling tensorboard-2.9.1:\n",
            "      Successfully uninstalled tensorboard-2.9.1\n",
            "  Attempting uninstall: keras\n",
            "    Found existing installation: keras 2.9.0\n",
            "    Uninstalling keras-2.9.0:\n",
            "      Successfully uninstalled keras-2.9.0\n",
            "  Attempting uninstall: flatbuffers\n",
            "    Found existing installation: flatbuffers 1.12\n",
            "    Uninstalling flatbuffers-1.12:\n",
            "      Successfully uninstalled flatbuffers-1.12\n",
            "\u001b[31mERROR: pip's dependency resolver does not currently take into account all the packages that are installed. This behaviour is the source of the following dependency conflicts.\n",
            "tensorflow 2.9.2 requires flatbuffers<2,>=1.12, but you have flatbuffers 22.12.6 which is incompatible.\n",
            "tensorflow 2.9.2 requires keras<2.10.0,>=2.9.0rc0, but you have keras 2.11.0 which is incompatible.\n",
            "tensorflow 2.9.2 requires tensorboard<2.10,>=2.9, but you have tensorboard 2.11.0 which is incompatible.\n",
            "tensorflow 2.9.2 requires tensorflow-estimator<2.10.0,>=2.9.0rc0, but you have tensorflow-estimator 2.11.0 which is incompatible.\u001b[0m\n",
            "Successfully installed flatbuffers-22.12.6 keras-2.11.0 tensorboard-2.11.0 tensorflow-estimator-2.11.0 tensorflow-gpu-2.11.0\n"
          ]
        },
        {
          "data": {
            "application/vnd.colab-display-data+json": {
              "pip_warning": {
                "packages": [
                  "flatbuffers",
                  "keras",
                  "tensorboard",
                  "tensorflow"
                ]
              }
            }
          },
          "metadata": {},
          "output_type": "display_data"
        }
      ],
      "source": [
        "pip install tensorflow_gpu"
      ]
    },
    {
      "cell_type": "code",
      "execution_count": null,
      "metadata": {
        "id": "JEnhQmxnu1mT"
      },
      "outputs": [],
      "source": [
        "import tensorflow as tf\n",
        "from tensorflow.keras.preprocessing.sequence import pad_sequences\n",
        "from tensorflow.keras.models import Sequential\n",
        "from tensorflow.keras.layers import Dense, LSTM"
      ]
    },
    {
      "cell_type": "code",
      "execution_count": null,
      "metadata": {
        "colab": {
          "base_uri": "https://localhost:8080/"
        },
        "id": "IsCbmCQovLeF",
        "outputId": "5790f29d-d45f-46d5-c55d-897fbac8ad69"
      },
      "outputs": [
        {
          "output_type": "stream",
          "name": "stdout",
          "text": [
            "2.9.2\n"
          ]
        }
      ],
      "source": [
        "print(tf.__version__)"
      ]
    },
    {
      "cell_type": "code",
      "execution_count": null,
      "metadata": {
        "id": "Opldb86mvLnD"
      },
      "outputs": [],
      "source": [
        "import numpy as np\n",
        "import pandas as pd\n",
        "import matplotlib.pyplot as plt\n"
      ]
    },
    {
      "cell_type": "markdown",
      "metadata": {
        "id": "YyXOt06lvgEF"
      },
      "source": [
        "Data Preprocessing"
      ]
    },
    {
      "cell_type": "code",
      "execution_count": null,
      "metadata": {
        "colab": {
          "base_uri": "https://localhost:8080/",
          "height": 108
        },
        "id": "Xfth0L3EvLwj",
        "outputId": "4b4edf85-50f0-4b89-f84b-080a5de89f5f"
      },
      "outputs": [
        {
          "output_type": "display_data",
          "data": {
            "text/plain": [
              "<IPython.core.display.HTML object>"
            ],
            "text/html": [
              "\n",
              "     <input type=\"file\" id=\"files-448e0f64-2d7a-4e83-8de8-134ad0744531\" name=\"files[]\" multiple disabled\n",
              "        style=\"border:none\" />\n",
              "     <output id=\"result-448e0f64-2d7a-4e83-8de8-134ad0744531\">\n",
              "      Upload widget is only available when the cell has been executed in the\n",
              "      current browser session. Please rerun this cell to enable.\n",
              "      </output>\n",
              "      <script>// Copyright 2017 Google LLC\n",
              "//\n",
              "// Licensed under the Apache License, Version 2.0 (the \"License\");\n",
              "// you may not use this file except in compliance with the License.\n",
              "// You may obtain a copy of the License at\n",
              "//\n",
              "//      http://www.apache.org/licenses/LICENSE-2.0\n",
              "//\n",
              "// Unless required by applicable law or agreed to in writing, software\n",
              "// distributed under the License is distributed on an \"AS IS\" BASIS,\n",
              "// WITHOUT WARRANTIES OR CONDITIONS OF ANY KIND, either express or implied.\n",
              "// See the License for the specific language governing permissions and\n",
              "// limitations under the License.\n",
              "\n",
              "/**\n",
              " * @fileoverview Helpers for google.colab Python module.\n",
              " */\n",
              "(function(scope) {\n",
              "function span(text, styleAttributes = {}) {\n",
              "  const element = document.createElement('span');\n",
              "  element.textContent = text;\n",
              "  for (const key of Object.keys(styleAttributes)) {\n",
              "    element.style[key] = styleAttributes[key];\n",
              "  }\n",
              "  return element;\n",
              "}\n",
              "\n",
              "// Max number of bytes which will be uploaded at a time.\n",
              "const MAX_PAYLOAD_SIZE = 100 * 1024;\n",
              "\n",
              "function _uploadFiles(inputId, outputId) {\n",
              "  const steps = uploadFilesStep(inputId, outputId);\n",
              "  const outputElement = document.getElementById(outputId);\n",
              "  // Cache steps on the outputElement to make it available for the next call\n",
              "  // to uploadFilesContinue from Python.\n",
              "  outputElement.steps = steps;\n",
              "\n",
              "  return _uploadFilesContinue(outputId);\n",
              "}\n",
              "\n",
              "// This is roughly an async generator (not supported in the browser yet),\n",
              "// where there are multiple asynchronous steps and the Python side is going\n",
              "// to poll for completion of each step.\n",
              "// This uses a Promise to block the python side on completion of each step,\n",
              "// then passes the result of the previous step as the input to the next step.\n",
              "function _uploadFilesContinue(outputId) {\n",
              "  const outputElement = document.getElementById(outputId);\n",
              "  const steps = outputElement.steps;\n",
              "\n",
              "  const next = steps.next(outputElement.lastPromiseValue);\n",
              "  return Promise.resolve(next.value.promise).then((value) => {\n",
              "    // Cache the last promise value to make it available to the next\n",
              "    // step of the generator.\n",
              "    outputElement.lastPromiseValue = value;\n",
              "    return next.value.response;\n",
              "  });\n",
              "}\n",
              "\n",
              "/**\n",
              " * Generator function which is called between each async step of the upload\n",
              " * process.\n",
              " * @param {string} inputId Element ID of the input file picker element.\n",
              " * @param {string} outputId Element ID of the output display.\n",
              " * @return {!Iterable<!Object>} Iterable of next steps.\n",
              " */\n",
              "function* uploadFilesStep(inputId, outputId) {\n",
              "  const inputElement = document.getElementById(inputId);\n",
              "  inputElement.disabled = false;\n",
              "\n",
              "  const outputElement = document.getElementById(outputId);\n",
              "  outputElement.innerHTML = '';\n",
              "\n",
              "  const pickedPromise = new Promise((resolve) => {\n",
              "    inputElement.addEventListener('change', (e) => {\n",
              "      resolve(e.target.files);\n",
              "    });\n",
              "  });\n",
              "\n",
              "  const cancel = document.createElement('button');\n",
              "  inputElement.parentElement.appendChild(cancel);\n",
              "  cancel.textContent = 'Cancel upload';\n",
              "  const cancelPromise = new Promise((resolve) => {\n",
              "    cancel.onclick = () => {\n",
              "      resolve(null);\n",
              "    };\n",
              "  });\n",
              "\n",
              "  // Wait for the user to pick the files.\n",
              "  const files = yield {\n",
              "    promise: Promise.race([pickedPromise, cancelPromise]),\n",
              "    response: {\n",
              "      action: 'starting',\n",
              "    }\n",
              "  };\n",
              "\n",
              "  cancel.remove();\n",
              "\n",
              "  // Disable the input element since further picks are not allowed.\n",
              "  inputElement.disabled = true;\n",
              "\n",
              "  if (!files) {\n",
              "    return {\n",
              "      response: {\n",
              "        action: 'complete',\n",
              "      }\n",
              "    };\n",
              "  }\n",
              "\n",
              "  for (const file of files) {\n",
              "    const li = document.createElement('li');\n",
              "    li.append(span(file.name, {fontWeight: 'bold'}));\n",
              "    li.append(span(\n",
              "        `(${file.type || 'n/a'}) - ${file.size} bytes, ` +\n",
              "        `last modified: ${\n",
              "            file.lastModifiedDate ? file.lastModifiedDate.toLocaleDateString() :\n",
              "                                    'n/a'} - `));\n",
              "    const percent = span('0% done');\n",
              "    li.appendChild(percent);\n",
              "\n",
              "    outputElement.appendChild(li);\n",
              "\n",
              "    const fileDataPromise = new Promise((resolve) => {\n",
              "      const reader = new FileReader();\n",
              "      reader.onload = (e) => {\n",
              "        resolve(e.target.result);\n",
              "      };\n",
              "      reader.readAsArrayBuffer(file);\n",
              "    });\n",
              "    // Wait for the data to be ready.\n",
              "    let fileData = yield {\n",
              "      promise: fileDataPromise,\n",
              "      response: {\n",
              "        action: 'continue',\n",
              "      }\n",
              "    };\n",
              "\n",
              "    // Use a chunked sending to avoid message size limits. See b/62115660.\n",
              "    let position = 0;\n",
              "    do {\n",
              "      const length = Math.min(fileData.byteLength - position, MAX_PAYLOAD_SIZE);\n",
              "      const chunk = new Uint8Array(fileData, position, length);\n",
              "      position += length;\n",
              "\n",
              "      const base64 = btoa(String.fromCharCode.apply(null, chunk));\n",
              "      yield {\n",
              "        response: {\n",
              "          action: 'append',\n",
              "          file: file.name,\n",
              "          data: base64,\n",
              "        },\n",
              "      };\n",
              "\n",
              "      let percentDone = fileData.byteLength === 0 ?\n",
              "          100 :\n",
              "          Math.round((position / fileData.byteLength) * 100);\n",
              "      percent.textContent = `${percentDone}% done`;\n",
              "\n",
              "    } while (position < fileData.byteLength);\n",
              "  }\n",
              "\n",
              "  // All done.\n",
              "  yield {\n",
              "    response: {\n",
              "      action: 'complete',\n",
              "    }\n",
              "  };\n",
              "}\n",
              "\n",
              "scope.google = scope.google || {};\n",
              "scope.google.colab = scope.google.colab || {};\n",
              "scope.google.colab._files = {\n",
              "  _uploadFiles,\n",
              "  _uploadFilesContinue,\n",
              "};\n",
              "})(self);\n",
              "</script> "
            ]
          },
          "metadata": {}
        },
        {
          "output_type": "stream",
          "name": "stdout",
          "text": [
            "Saving G.Test2.csv to G.Test2.csv\n",
            "Saving Train.csv to Train.csv\n"
          ]
        }
      ],
      "source": [
        "# importing the dataset\n",
        "from google.colab import files\n",
        "upload = files.upload()"
      ]
    },
    {
      "cell_type": "code",
      "execution_count": null,
      "metadata": {
        "id": "0OUkw_Gmvyme"
      },
      "outputs": [],
      "source": [
        "training = pd.read_csv(\"/content/Train.csv\")"
      ]
    },
    {
      "cell_type": "code",
      "execution_count": null,
      "metadata": {
        "colab": {
          "base_uri": "https://localhost:8080/",
          "height": 206
        },
        "id": "8nWy2IthwHcV",
        "outputId": "cdfe8e84-c2cf-4386-fb23-617af5c7d3e8"
      },
      "outputs": [
        {
          "output_type": "execute_result",
          "data": {
            "text/plain": [
              "         Date       Open       High        Low      Close  Adj Close    Volume\n",
              "0  28-11-2017  52.754501  53.118752  52.000000  52.370499  52.370499  28488000\n",
              "1  29-11-2017  52.133999  52.203999  50.782501  51.083000  51.083000  49188000\n",
              "2  30-11-2017  51.118500  51.424500  50.750000  51.070499  51.070499  34480000\n",
              "3  01-12-2017  50.790001  51.124500  50.101002  50.508499  50.508499  38192000\n",
              "4  04-12-2017  50.632999  50.805000  49.778500  49.933998  49.933998  38128000"
            ],
            "text/html": [
              "\n",
              "  <div id=\"df-d6778409-95bd-4dc5-8399-30a4f03245fc\">\n",
              "    <div class=\"colab-df-container\">\n",
              "      <div>\n",
              "<style scoped>\n",
              "    .dataframe tbody tr th:only-of-type {\n",
              "        vertical-align: middle;\n",
              "    }\n",
              "\n",
              "    .dataframe tbody tr th {\n",
              "        vertical-align: top;\n",
              "    }\n",
              "\n",
              "    .dataframe thead th {\n",
              "        text-align: right;\n",
              "    }\n",
              "</style>\n",
              "<table border=\"1\" class=\"dataframe\">\n",
              "  <thead>\n",
              "    <tr style=\"text-align: right;\">\n",
              "      <th></th>\n",
              "      <th>Date</th>\n",
              "      <th>Open</th>\n",
              "      <th>High</th>\n",
              "      <th>Low</th>\n",
              "      <th>Close</th>\n",
              "      <th>Adj Close</th>\n",
              "      <th>Volume</th>\n",
              "    </tr>\n",
              "  </thead>\n",
              "  <tbody>\n",
              "    <tr>\n",
              "      <th>0</th>\n",
              "      <td>28-11-2017</td>\n",
              "      <td>52.754501</td>\n",
              "      <td>53.118752</td>\n",
              "      <td>52.000000</td>\n",
              "      <td>52.370499</td>\n",
              "      <td>52.370499</td>\n",
              "      <td>28488000</td>\n",
              "    </tr>\n",
              "    <tr>\n",
              "      <th>1</th>\n",
              "      <td>29-11-2017</td>\n",
              "      <td>52.133999</td>\n",
              "      <td>52.203999</td>\n",
              "      <td>50.782501</td>\n",
              "      <td>51.083000</td>\n",
              "      <td>51.083000</td>\n",
              "      <td>49188000</td>\n",
              "    </tr>\n",
              "    <tr>\n",
              "      <th>2</th>\n",
              "      <td>30-11-2017</td>\n",
              "      <td>51.118500</td>\n",
              "      <td>51.424500</td>\n",
              "      <td>50.750000</td>\n",
              "      <td>51.070499</td>\n",
              "      <td>51.070499</td>\n",
              "      <td>34480000</td>\n",
              "    </tr>\n",
              "    <tr>\n",
              "      <th>3</th>\n",
              "      <td>01-12-2017</td>\n",
              "      <td>50.790001</td>\n",
              "      <td>51.124500</td>\n",
              "      <td>50.101002</td>\n",
              "      <td>50.508499</td>\n",
              "      <td>50.508499</td>\n",
              "      <td>38192000</td>\n",
              "    </tr>\n",
              "    <tr>\n",
              "      <th>4</th>\n",
              "      <td>04-12-2017</td>\n",
              "      <td>50.632999</td>\n",
              "      <td>50.805000</td>\n",
              "      <td>49.778500</td>\n",
              "      <td>49.933998</td>\n",
              "      <td>49.933998</td>\n",
              "      <td>38128000</td>\n",
              "    </tr>\n",
              "  </tbody>\n",
              "</table>\n",
              "</div>\n",
              "      <button class=\"colab-df-convert\" onclick=\"convertToInteractive('df-d6778409-95bd-4dc5-8399-30a4f03245fc')\"\n",
              "              title=\"Convert this dataframe to an interactive table.\"\n",
              "              style=\"display:none;\">\n",
              "        \n",
              "  <svg xmlns=\"http://www.w3.org/2000/svg\" height=\"24px\"viewBox=\"0 0 24 24\"\n",
              "       width=\"24px\">\n",
              "    <path d=\"M0 0h24v24H0V0z\" fill=\"none\"/>\n",
              "    <path d=\"M18.56 5.44l.94 2.06.94-2.06 2.06-.94-2.06-.94-.94-2.06-.94 2.06-2.06.94zm-11 1L8.5 8.5l.94-2.06 2.06-.94-2.06-.94L8.5 2.5l-.94 2.06-2.06.94zm10 10l.94 2.06.94-2.06 2.06-.94-2.06-.94-.94-2.06-.94 2.06-2.06.94z\"/><path d=\"M17.41 7.96l-1.37-1.37c-.4-.4-.92-.59-1.43-.59-.52 0-1.04.2-1.43.59L10.3 9.45l-7.72 7.72c-.78.78-.78 2.05 0 2.83L4 21.41c.39.39.9.59 1.41.59.51 0 1.02-.2 1.41-.59l7.78-7.78 2.81-2.81c.8-.78.8-2.07 0-2.86zM5.41 20L4 18.59l7.72-7.72 1.47 1.35L5.41 20z\"/>\n",
              "  </svg>\n",
              "      </button>\n",
              "      \n",
              "  <style>\n",
              "    .colab-df-container {\n",
              "      display:flex;\n",
              "      flex-wrap:wrap;\n",
              "      gap: 12px;\n",
              "    }\n",
              "\n",
              "    .colab-df-convert {\n",
              "      background-color: #E8F0FE;\n",
              "      border: none;\n",
              "      border-radius: 50%;\n",
              "      cursor: pointer;\n",
              "      display: none;\n",
              "      fill: #1967D2;\n",
              "      height: 32px;\n",
              "      padding: 0 0 0 0;\n",
              "      width: 32px;\n",
              "    }\n",
              "\n",
              "    .colab-df-convert:hover {\n",
              "      background-color: #E2EBFA;\n",
              "      box-shadow: 0px 1px 2px rgba(60, 64, 67, 0.3), 0px 1px 3px 1px rgba(60, 64, 67, 0.15);\n",
              "      fill: #174EA6;\n",
              "    }\n",
              "\n",
              "    [theme=dark] .colab-df-convert {\n",
              "      background-color: #3B4455;\n",
              "      fill: #D2E3FC;\n",
              "    }\n",
              "\n",
              "    [theme=dark] .colab-df-convert:hover {\n",
              "      background-color: #434B5C;\n",
              "      box-shadow: 0px 1px 3px 1px rgba(0, 0, 0, 0.15);\n",
              "      filter: drop-shadow(0px 1px 2px rgba(0, 0, 0, 0.3));\n",
              "      fill: #FFFFFF;\n",
              "    }\n",
              "  </style>\n",
              "\n",
              "      <script>\n",
              "        const buttonEl =\n",
              "          document.querySelector('#df-d6778409-95bd-4dc5-8399-30a4f03245fc button.colab-df-convert');\n",
              "        buttonEl.style.display =\n",
              "          google.colab.kernel.accessAllowed ? 'block' : 'none';\n",
              "\n",
              "        async function convertToInteractive(key) {\n",
              "          const element = document.querySelector('#df-d6778409-95bd-4dc5-8399-30a4f03245fc');\n",
              "          const dataTable =\n",
              "            await google.colab.kernel.invokeFunction('convertToInteractive',\n",
              "                                                     [key], {});\n",
              "          if (!dataTable) return;\n",
              "\n",
              "          const docLinkHtml = 'Like what you see? Visit the ' +\n",
              "            '<a target=\"_blank\" href=https://colab.research.google.com/notebooks/data_table.ipynb>data table notebook</a>'\n",
              "            + ' to learn more about interactive tables.';\n",
              "          element.innerHTML = '';\n",
              "          dataTable['output_type'] = 'display_data';\n",
              "          await google.colab.output.renderOutput(dataTable, element);\n",
              "          const docLink = document.createElement('div');\n",
              "          docLink.innerHTML = docLinkHtml;\n",
              "          element.appendChild(docLink);\n",
              "        }\n",
              "      </script>\n",
              "    </div>\n",
              "  </div>\n",
              "  "
            ]
          },
          "metadata": {},
          "execution_count": 10
        }
      ],
      "source": [
        "training.head()"
      ]
    },
    {
      "cell_type": "code",
      "execution_count": null,
      "metadata": {
        "colab": {
          "base_uri": "https://localhost:8080/",
          "height": 206
        },
        "id": "BbttawIvwHes",
        "outputId": "117ec3ba-dbdb-4c7a-9693-070afae41408"
      },
      "outputs": [
        {
          "output_type": "execute_result",
          "data": {
            "text/plain": [
              "            Date       Open        High        Low       Close   Adj Close  \\\n",
              "1256  23-11-2022  97.339996   99.069000  97.339996   98.820000   98.820000   \n",
              "1257  25-11-2022  98.464996   98.940002  97.529999   97.599998   97.599998   \n",
              "1258  28-11-2022  97.199997   97.830002  95.889999   96.250000   96.250000   \n",
              "1259  29-11-2022  96.000000   96.389999  94.389999   95.440002   95.440002   \n",
              "1260  30-11-2022  95.120003  101.449997  94.669998  101.449997  101.449997   \n",
              "\n",
              "        Volume  \n",
              "1256  17568900  \n",
              "1257   8567800  \n",
              "1258  19974500  \n",
              "1259  20220000  \n",
              "1260  39888100  "
            ],
            "text/html": [
              "\n",
              "  <div id=\"df-798dff7d-0170-4c3a-a4e7-c53595f1ee8b\">\n",
              "    <div class=\"colab-df-container\">\n",
              "      <div>\n",
              "<style scoped>\n",
              "    .dataframe tbody tr th:only-of-type {\n",
              "        vertical-align: middle;\n",
              "    }\n",
              "\n",
              "    .dataframe tbody tr th {\n",
              "        vertical-align: top;\n",
              "    }\n",
              "\n",
              "    .dataframe thead th {\n",
              "        text-align: right;\n",
              "    }\n",
              "</style>\n",
              "<table border=\"1\" class=\"dataframe\">\n",
              "  <thead>\n",
              "    <tr style=\"text-align: right;\">\n",
              "      <th></th>\n",
              "      <th>Date</th>\n",
              "      <th>Open</th>\n",
              "      <th>High</th>\n",
              "      <th>Low</th>\n",
              "      <th>Close</th>\n",
              "      <th>Adj Close</th>\n",
              "      <th>Volume</th>\n",
              "    </tr>\n",
              "  </thead>\n",
              "  <tbody>\n",
              "    <tr>\n",
              "      <th>1256</th>\n",
              "      <td>23-11-2022</td>\n",
              "      <td>97.339996</td>\n",
              "      <td>99.069000</td>\n",
              "      <td>97.339996</td>\n",
              "      <td>98.820000</td>\n",
              "      <td>98.820000</td>\n",
              "      <td>17568900</td>\n",
              "    </tr>\n",
              "    <tr>\n",
              "      <th>1257</th>\n",
              "      <td>25-11-2022</td>\n",
              "      <td>98.464996</td>\n",
              "      <td>98.940002</td>\n",
              "      <td>97.529999</td>\n",
              "      <td>97.599998</td>\n",
              "      <td>97.599998</td>\n",
              "      <td>8567800</td>\n",
              "    </tr>\n",
              "    <tr>\n",
              "      <th>1258</th>\n",
              "      <td>28-11-2022</td>\n",
              "      <td>97.199997</td>\n",
              "      <td>97.830002</td>\n",
              "      <td>95.889999</td>\n",
              "      <td>96.250000</td>\n",
              "      <td>96.250000</td>\n",
              "      <td>19974500</td>\n",
              "    </tr>\n",
              "    <tr>\n",
              "      <th>1259</th>\n",
              "      <td>29-11-2022</td>\n",
              "      <td>96.000000</td>\n",
              "      <td>96.389999</td>\n",
              "      <td>94.389999</td>\n",
              "      <td>95.440002</td>\n",
              "      <td>95.440002</td>\n",
              "      <td>20220000</td>\n",
              "    </tr>\n",
              "    <tr>\n",
              "      <th>1260</th>\n",
              "      <td>30-11-2022</td>\n",
              "      <td>95.120003</td>\n",
              "      <td>101.449997</td>\n",
              "      <td>94.669998</td>\n",
              "      <td>101.449997</td>\n",
              "      <td>101.449997</td>\n",
              "      <td>39888100</td>\n",
              "    </tr>\n",
              "  </tbody>\n",
              "</table>\n",
              "</div>\n",
              "      <button class=\"colab-df-convert\" onclick=\"convertToInteractive('df-798dff7d-0170-4c3a-a4e7-c53595f1ee8b')\"\n",
              "              title=\"Convert this dataframe to an interactive table.\"\n",
              "              style=\"display:none;\">\n",
              "        \n",
              "  <svg xmlns=\"http://www.w3.org/2000/svg\" height=\"24px\"viewBox=\"0 0 24 24\"\n",
              "       width=\"24px\">\n",
              "    <path d=\"M0 0h24v24H0V0z\" fill=\"none\"/>\n",
              "    <path d=\"M18.56 5.44l.94 2.06.94-2.06 2.06-.94-2.06-.94-.94-2.06-.94 2.06-2.06.94zm-11 1L8.5 8.5l.94-2.06 2.06-.94-2.06-.94L8.5 2.5l-.94 2.06-2.06.94zm10 10l.94 2.06.94-2.06 2.06-.94-2.06-.94-.94-2.06-.94 2.06-2.06.94z\"/><path d=\"M17.41 7.96l-1.37-1.37c-.4-.4-.92-.59-1.43-.59-.52 0-1.04.2-1.43.59L10.3 9.45l-7.72 7.72c-.78.78-.78 2.05 0 2.83L4 21.41c.39.39.9.59 1.41.59.51 0 1.02-.2 1.41-.59l7.78-7.78 2.81-2.81c.8-.78.8-2.07 0-2.86zM5.41 20L4 18.59l7.72-7.72 1.47 1.35L5.41 20z\"/>\n",
              "  </svg>\n",
              "      </button>\n",
              "      \n",
              "  <style>\n",
              "    .colab-df-container {\n",
              "      display:flex;\n",
              "      flex-wrap:wrap;\n",
              "      gap: 12px;\n",
              "    }\n",
              "\n",
              "    .colab-df-convert {\n",
              "      background-color: #E8F0FE;\n",
              "      border: none;\n",
              "      border-radius: 50%;\n",
              "      cursor: pointer;\n",
              "      display: none;\n",
              "      fill: #1967D2;\n",
              "      height: 32px;\n",
              "      padding: 0 0 0 0;\n",
              "      width: 32px;\n",
              "    }\n",
              "\n",
              "    .colab-df-convert:hover {\n",
              "      background-color: #E2EBFA;\n",
              "      box-shadow: 0px 1px 2px rgba(60, 64, 67, 0.3), 0px 1px 3px 1px rgba(60, 64, 67, 0.15);\n",
              "      fill: #174EA6;\n",
              "    }\n",
              "\n",
              "    [theme=dark] .colab-df-convert {\n",
              "      background-color: #3B4455;\n",
              "      fill: #D2E3FC;\n",
              "    }\n",
              "\n",
              "    [theme=dark] .colab-df-convert:hover {\n",
              "      background-color: #434B5C;\n",
              "      box-shadow: 0px 1px 3px 1px rgba(0, 0, 0, 0.15);\n",
              "      filter: drop-shadow(0px 1px 2px rgba(0, 0, 0, 0.3));\n",
              "      fill: #FFFFFF;\n",
              "    }\n",
              "  </style>\n",
              "\n",
              "      <script>\n",
              "        const buttonEl =\n",
              "          document.querySelector('#df-798dff7d-0170-4c3a-a4e7-c53595f1ee8b button.colab-df-convert');\n",
              "        buttonEl.style.display =\n",
              "          google.colab.kernel.accessAllowed ? 'block' : 'none';\n",
              "\n",
              "        async function convertToInteractive(key) {\n",
              "          const element = document.querySelector('#df-798dff7d-0170-4c3a-a4e7-c53595f1ee8b');\n",
              "          const dataTable =\n",
              "            await google.colab.kernel.invokeFunction('convertToInteractive',\n",
              "                                                     [key], {});\n",
              "          if (!dataTable) return;\n",
              "\n",
              "          const docLinkHtml = 'Like what you see? Visit the ' +\n",
              "            '<a target=\"_blank\" href=https://colab.research.google.com/notebooks/data_table.ipynb>data table notebook</a>'\n",
              "            + ' to learn more about interactive tables.';\n",
              "          element.innerHTML = '';\n",
              "          dataTable['output_type'] = 'display_data';\n",
              "          await google.colab.output.renderOutput(dataTable, element);\n",
              "          const docLink = document.createElement('div');\n",
              "          docLink.innerHTML = docLinkHtml;\n",
              "          element.appendChild(docLink);\n",
              "        }\n",
              "      </script>\n",
              "    </div>\n",
              "  </div>\n",
              "  "
            ]
          },
          "metadata": {},
          "execution_count": 11
        }
      ],
      "source": [
        "training.tail()"
      ]
    },
    {
      "cell_type": "code",
      "execution_count": null,
      "metadata": {
        "colab": {
          "base_uri": "https://localhost:8080/"
        },
        "id": "ivIxecwFwHg1",
        "outputId": "c079e94a-5d67-4ce6-c329-06a2ed38c68e"
      },
      "outputs": [
        {
          "output_type": "stream",
          "name": "stdout",
          "text": [
            "<class 'pandas.core.frame.DataFrame'>\n",
            "RangeIndex: 1261 entries, 0 to 1260\n",
            "Data columns (total 7 columns):\n",
            " #   Column     Non-Null Count  Dtype  \n",
            "---  ------     --------------  -----  \n",
            " 0   Date       1261 non-null   object \n",
            " 1   Open       1261 non-null   float64\n",
            " 2   High       1261 non-null   float64\n",
            " 3   Low        1261 non-null   float64\n",
            " 4   Close      1261 non-null   float64\n",
            " 5   Adj Close  1261 non-null   float64\n",
            " 6   Volume     1261 non-null   int64  \n",
            "dtypes: float64(5), int64(1), object(1)\n",
            "memory usage: 69.1+ KB\n"
          ]
        }
      ],
      "source": [
        "training.info()"
      ]
    },
    {
      "cell_type": "code",
      "execution_count": null,
      "metadata": {
        "id": "lVo5OxeawHiz"
      },
      "outputs": [],
      "source": [
        "training_set = training.iloc[:, 1:2].values \n",
        "\n",
        "# By adding .values we are converting data into numpy arrays"
      ]
    },
    {
      "cell_type": "code",
      "execution_count": null,
      "metadata": {
        "colab": {
          "base_uri": "https://localhost:8080/"
        },
        "id": "s8y4H_--wHlF",
        "outputId": "ad40423f-8551-4cc7-831e-d30f85b6e670"
      },
      "outputs": [
        {
          "output_type": "execute_result",
          "data": {
            "text/plain": [
              "((1261, 1), (1261, 7))"
            ]
          },
          "metadata": {},
          "execution_count": 14
        }
      ],
      "source": [
        "training_set.shape, training.shape\n",
        "# Note that in training_set we have selected one column and in the training we have seven column."
      ]
    },
    {
      "cell_type": "code",
      "execution_count": null,
      "metadata": {
        "id": "V-nuYI51x5r8"
      },
      "outputs": [],
      "source": [
        "# Feature scaling (Normalization)\n",
        "\n",
        "from sklearn.preprocessing import MinMaxScaler\n",
        "sc = MinMaxScaler(feature_range = (0, 1))\n",
        "tr_set_scaled = sc.fit_transform(training_set)\n",
        "\n",
        "# tr will be training_set after feature scaling."
      ]
    },
    {
      "cell_type": "code",
      "execution_count": null,
      "metadata": {
        "colab": {
          "base_uri": "https://localhost:8080/"
        },
        "id": "io-pdqJ_yPx_",
        "outputId": "79677a2a-f9db-4cd7-c7fe-0ea21299bad3"
      },
      "outputs": [
        {
          "output_type": "execute_result",
          "data": {
            "text/plain": [
              "array([[0.03934826],\n",
              "       [0.03333381],\n",
              "       [0.0234907 ],\n",
              "       ...,\n",
              "       [0.47015319],\n",
              "       [0.45852176],\n",
              "       [0.44999205]])"
            ]
          },
          "metadata": {},
          "execution_count": 16
        }
      ],
      "source": [
        "tr_set_scaled\n",
        "# Now we can see that these values are scaled. "
      ]
    },
    {
      "cell_type": "code",
      "execution_count": null,
      "metadata": {
        "id": "7Xhvquw1zIBu"
      },
      "outputs": [],
      "source": [
        "# Creating a data stucture with 60 timesteps and 1 output.\n",
        "x_train = []\n",
        "y_train = []\n",
        "\n",
        "for i in range(60, 1261):\n",
        "  x_train.append(tr_set_scaled[i-60:i, 0])\n",
        "  y_train.append(tr_set_scaled[i, 0])\n",
        "# [i-60] is specifying the lower bound and [i-60:i] - and i here is specifying the upper bound, 0 is specifying the column index \n",
        "# as there is only one column. Also, since in python upper bound is excluded, the upper bound will take values from 0 to 59.\n",
        "\n",
        "\n",
        "\n",
        "# Since x_train and y_train are the list and we have to convert them into numpy arrays.   \n",
        "\n",
        "x_train, y_train = np.array(x_train), np.array(y_train)"
      ]
    },
    {
      "cell_type": "code",
      "execution_count": null,
      "metadata": {
        "colab": {
          "base_uri": "https://localhost:8080/"
        },
        "id": "gT6CEMZ89F1a",
        "outputId": "7060f2e3-92ff-4e4c-fea9-1338bfa15ac5"
      },
      "outputs": [
        {
          "output_type": "execute_result",
          "data": {
            "text/plain": [
              "array([[0.03934826, 0.03333381, 0.0234907 , ..., 0.06424928, 0.06896003,\n",
              "        0.06723952],\n",
              "       [0.03333381, 0.0234907 , 0.0203066 , ..., 0.06896003, 0.06723952,\n",
              "        0.07458671],\n",
              "       [0.0234907 , 0.0203066 , 0.01878479, ..., 0.06723952, 0.07458671,\n",
              "        0.08110034],\n",
              "       ...,\n",
              "       [0.58646777, 0.60721052, 0.5761449 , ..., 0.46007266, 0.47151018,\n",
              "        0.48241468],\n",
              "       [0.60721052, 0.5761449 , 0.57251007, ..., 0.47151018, 0.48241468,\n",
              "        0.47015319],\n",
              "       [0.5761449 , 0.57251007, 0.58627394, ..., 0.48241468, 0.47015319,\n",
              "        0.45852176]])"
            ]
          },
          "metadata": {},
          "execution_count": 18
        }
      ],
      "source": [
        "x_train"
      ]
    },
    {
      "cell_type": "code",
      "execution_count": null,
      "metadata": {
        "colab": {
          "base_uri": "https://localhost:8080/"
        },
        "id": "ih6NnQWu9IWa",
        "outputId": "95595919-c7c6-4c31-c13b-2d3510ea5e8a"
      },
      "outputs": [
        {
          "output_type": "execute_result",
          "data": {
            "text/plain": [
              "array([0.07458671, 0.08110034, 0.07227498, ..., 0.47015319, 0.45852176,\n",
              "       0.44999205])"
            ]
          },
          "metadata": {},
          "execution_count": 19
        }
      ],
      "source": [
        "y_train"
      ]
    },
    {
      "cell_type": "code",
      "execution_count": null,
      "metadata": {
        "id": "5_uzh-Xm9Iin"
      },
      "outputs": [],
      "source": [
        "# With the above output, our model will learn the co-relation."
      ]
    },
    {
      "cell_type": "code",
      "execution_count": null,
      "metadata": {
        "colab": {
          "base_uri": "https://localhost:8080/"
        },
        "id": "pOVh_4Ll9Ite",
        "outputId": "0bdb2cb6-2468-46cf-ea5f-52c5e9676497"
      },
      "outputs": [
        {
          "output_type": "execute_result",
          "data": {
            "text/plain": [
              "(1201, 60)"
            ]
          },
          "metadata": {},
          "execution_count": 21
        }
      ],
      "source": [
        "x_train.shape"
      ]
    },
    {
      "cell_type": "code",
      "execution_count": null,
      "metadata": {
        "id": "SMC0DHQl9Iwn"
      },
      "outputs": [],
      "source": [
        "# Reshaping the above dataset as RNN (Recurrent Neural Network(RNN)) network will take input in the form of 3 dimension.\n",
        "\n",
        "x_train = x_train.reshape(1201, 60, 1) # These are the 3 dimensions for RNN\n",
        "# 1219 is the batch size/the number of observations, 60 is the total number of columns and 1 is the predictor/indicator or (1 google \n",
        "# stock price). \n"
      ]
    },
    {
      "cell_type": "code",
      "execution_count": null,
      "metadata": {
        "colab": {
          "base_uri": "https://localhost:8080/"
        },
        "id": "0JDBiZ979Iy2",
        "outputId": "2208091e-47bc-4ee9-c171-332e744987bf"
      },
      "outputs": [
        {
          "output_type": "execute_result",
          "data": {
            "text/plain": [
              "(1201, 60, 1)"
            ]
          },
          "metadata": {},
          "execution_count": 23
        }
      ],
      "source": [
        "x_train.shape # (Now it is in 3 dimension)"
      ]
    },
    {
      "cell_type": "markdown",
      "metadata": {
        "id": "LMxa9imQ_bfE"
      },
      "source": [
        "Building LSTM \n",
        "(Long short-term memory (LSTM)[1] is an artificial neural network used in the fields of artificial intelligence and deep learning)"
      ]
    },
    {
      "cell_type": "code",
      "execution_count": null,
      "metadata": {
        "id": "agaQKQs9_f4p"
      },
      "outputs": [],
      "source": [
        "# First we have to define an object (initializing the n/w or RNN)\n",
        "\n",
        "# We are defining the object model of the Sequential class\n",
        "\n",
        "model = tf.keras.models.Sequential()"
      ]
    },
    {
      "cell_type": "code",
      "execution_count": null,
      "metadata": {
        "id": "-VDat7Vv_6AR"
      },
      "outputs": [],
      "source": [
        "# First LSTM layer.\n",
        "\n",
        "model.add(tf.keras.layers.LSTM(units = 60, activation = \"relu\", return_sequences = True, input_shape = (60, 1)))\n",
        "# These are the units we want to have in this LSTM layer. \n",
        "# Activation function add non-linearity into the network\n",
        "# If we want to add another LSTM layer, we would want this layer to return the sequences and if want to add a dense layer after this \n",
        "# layer, then we wouldn't want to return the sequences. \n",
        "model.add(tf.keras.layers.Dropout(0.2))"
      ]
    },
    {
      "cell_type": "code",
      "execution_count": null,
      "metadata": {
        "id": "dV0db6MZGZ72"
      },
      "outputs": [],
      "source": [
        "# Adding a dropout layer. \n",
        "# Adding the dropout layer is a regularization technique, here we are dropping 20%(.20) neurons from the training.\n",
        "# model.add(tf.keras.layers.Dropout(0.2))\n"
      ]
    },
    {
      "cell_type": "code",
      "execution_count": null,
      "metadata": {
        "id": "TqdI1LKnHDSP"
      },
      "outputs": [],
      "source": [
        "# Second LSTM layer.\n",
        "\n",
        "model.add(tf.keras.layers.LSTM(units = 60, activation = \"relu\", return_sequences = True))\n",
        "# Second dropout layer.\n",
        "model.add(tf.keras.layers.Dropout(0.2))\n",
        "\n",
        "# Third LSTM layer.\n",
        "\n",
        "model.add(tf.keras.layers.LSTM(units = 80, activation = \"relu\", return_sequences = True))\n",
        "# Third dropout layer.\n",
        "model.add(tf.keras.layers.Dropout(0.2))\n",
        "\n",
        "# Fourth LSTM layer.\n",
        "\n",
        "model.add(tf.keras.layers.LSTM(units = 120, activation = \"relu\")) # The reason return_sequences is deleted bcz we won't be adding any\n",
        "# other LSTM layer but we will though add a new dense layer.\n",
        "# Fourth dropout layer.\n",
        "model.add(tf.keras.layers.Dropout(0.2))"
      ]
    },
    {
      "cell_type": "code",
      "execution_count": null,
      "metadata": {
        "id": "g5ia2YI1IHQu"
      },
      "outputs": [],
      "source": [
        "# output layer\n",
        "\n",
        "model.add(tf.keras.layers.Dense(units = 1))\n"
      ]
    },
    {
      "cell_type": "code",
      "execution_count": null,
      "metadata": {
        "colab": {
          "base_uri": "https://localhost:8080/"
        },
        "id": "RWXo8aGEIYxS",
        "outputId": "b471c501-77cf-4050-a1da-7d7149e80af3"
      },
      "outputs": [
        {
          "output_type": "stream",
          "name": "stdout",
          "text": [
            "Model: \"sequential\"\n",
            "_________________________________________________________________\n",
            " Layer (type)                Output Shape              Param #   \n",
            "=================================================================\n",
            " lstm (LSTM)                 (None, 60, 60)            14880     \n",
            "                                                                 \n",
            " dropout (Dropout)           (None, 60, 60)            0         \n",
            "                                                                 \n",
            " lstm_1 (LSTM)               (None, 60, 60)            29040     \n",
            "                                                                 \n",
            " dropout_1 (Dropout)         (None, 60, 60)            0         \n",
            "                                                                 \n",
            " lstm_2 (LSTM)               (None, 60, 80)            45120     \n",
            "                                                                 \n",
            " dropout_2 (Dropout)         (None, 60, 80)            0         \n",
            "                                                                 \n",
            " lstm_3 (LSTM)               (None, 120)               96480     \n",
            "                                                                 \n",
            " dropout_3 (Dropout)         (None, 120)               0         \n",
            "                                                                 \n",
            " dense (Dense)               (None, 1)                 121       \n",
            "                                                                 \n",
            "=================================================================\n",
            "Total params: 185,641\n",
            "Trainable params: 185,641\n",
            "Non-trainable params: 0\n",
            "_________________________________________________________________\n"
          ]
        }
      ],
      "source": [
        "model.summary()"
      ]
    },
    {
      "cell_type": "code",
      "execution_count": null,
      "metadata": {
        "id": "X23iM1dSIZ7-"
      },
      "outputs": [],
      "source": [
        "# Compile the model\n",
        "\n",
        "model.compile(optimizer = \"adam\", loss = \"mean_squared_error\")"
      ]
    },
    {
      "cell_type": "markdown",
      "metadata": {
        "id": "q6KgWGt1Jnwa"
      },
      "source": [
        "# Training the model"
      ]
    },
    {
      "cell_type": "code",
      "execution_count": null,
      "metadata": {
        "colab": {
          "base_uri": "https://localhost:8080/"
        },
        "id": "912y8lvxIaG9",
        "outputId": "6a562e45-39db-42c4-8e33-995c659774e4"
      },
      "outputs": [
        {
          "output_type": "stream",
          "name": "stdout",
          "text": [
            "Epoch 1/100\n",
            "38/38 [==============================] - 13s 199ms/step - loss: 0.0551\n",
            "Epoch 2/100\n",
            "38/38 [==============================] - 9s 238ms/step - loss: 0.0069\n",
            "Epoch 3/100\n",
            "38/38 [==============================] - 7s 193ms/step - loss: 0.0048\n",
            "Epoch 4/100\n",
            "38/38 [==============================] - 7s 193ms/step - loss: 0.0047\n",
            "Epoch 5/100\n",
            "38/38 [==============================] - 7s 194ms/step - loss: 0.0049\n",
            "Epoch 6/100\n",
            "38/38 [==============================] - 7s 196ms/step - loss: 0.0051\n",
            "Epoch 7/100\n",
            "38/38 [==============================] - 7s 197ms/step - loss: 0.0046\n",
            "Epoch 8/100\n",
            "38/38 [==============================] - 7s 194ms/step - loss: 0.0043\n",
            "Epoch 9/100\n",
            "38/38 [==============================] - 7s 192ms/step - loss: 0.0044\n",
            "Epoch 10/100\n",
            "38/38 [==============================] - 7s 191ms/step - loss: 0.0031\n",
            "Epoch 11/100\n",
            "38/38 [==============================] - 7s 195ms/step - loss: 0.0034\n",
            "Epoch 12/100\n",
            "38/38 [==============================] - 7s 194ms/step - loss: 0.0042\n",
            "Epoch 13/100\n",
            "38/38 [==============================] - 7s 194ms/step - loss: 0.0035\n",
            "Epoch 14/100\n",
            "38/38 [==============================] - 7s 194ms/step - loss: 0.0034\n",
            "Epoch 15/100\n",
            "38/38 [==============================] - 7s 196ms/step - loss: 0.0032\n",
            "Epoch 16/100\n",
            "38/38 [==============================] - 8s 198ms/step - loss: 0.0032\n",
            "Epoch 17/100\n",
            "38/38 [==============================] - 7s 196ms/step - loss: 0.0030\n",
            "Epoch 18/100\n",
            "38/38 [==============================] - 7s 192ms/step - loss: 0.0036\n",
            "Epoch 19/100\n",
            "38/38 [==============================] - 7s 192ms/step - loss: 0.0039\n",
            "Epoch 20/100\n",
            "38/38 [==============================] - 7s 192ms/step - loss: 0.0035\n",
            "Epoch 21/100\n",
            "38/38 [==============================] - 7s 192ms/step - loss: 0.0034\n",
            "Epoch 22/100\n",
            "38/38 [==============================] - 7s 191ms/step - loss: 0.0028\n",
            "Epoch 23/100\n",
            "38/38 [==============================] - 7s 192ms/step - loss: 0.0029\n",
            "Epoch 24/100\n",
            "38/38 [==============================] - 7s 193ms/step - loss: 0.0029\n",
            "Epoch 25/100\n",
            "38/38 [==============================] - 7s 194ms/step - loss: 0.0029\n",
            "Epoch 26/100\n",
            "38/38 [==============================] - 7s 192ms/step - loss: 0.0027\n",
            "Epoch 27/100\n",
            "38/38 [==============================] - 7s 192ms/step - loss: 0.0030\n",
            "Epoch 28/100\n",
            "38/38 [==============================] - 7s 196ms/step - loss: 0.0025\n",
            "Epoch 29/100\n",
            "38/38 [==============================] - 7s 196ms/step - loss: 0.0026\n",
            "Epoch 30/100\n",
            "38/38 [==============================] - 7s 194ms/step - loss: 0.0026\n",
            "Epoch 31/100\n",
            "38/38 [==============================] - 9s 232ms/step - loss: 0.0026\n",
            "Epoch 32/100\n",
            "38/38 [==============================] - 8s 201ms/step - loss: 0.0026\n",
            "Epoch 33/100\n",
            "38/38 [==============================] - 8s 198ms/step - loss: 0.0021\n",
            "Epoch 34/100\n",
            "38/38 [==============================] - 7s 194ms/step - loss: 0.0025\n",
            "Epoch 35/100\n",
            "38/38 [==============================] - 7s 194ms/step - loss: 0.0023\n",
            "Epoch 36/100\n",
            "38/38 [==============================] - 7s 195ms/step - loss: 0.0024\n",
            "Epoch 37/100\n",
            "38/38 [==============================] - 7s 195ms/step - loss: 0.0025\n",
            "Epoch 38/100\n",
            "38/38 [==============================] - 7s 193ms/step - loss: 0.0024\n",
            "Epoch 39/100\n",
            "38/38 [==============================] - 7s 194ms/step - loss: 0.0025\n",
            "Epoch 40/100\n",
            "38/38 [==============================] - 7s 192ms/step - loss: 0.0025\n",
            "Epoch 41/100\n",
            "38/38 [==============================] - 7s 194ms/step - loss: 0.0024\n",
            "Epoch 42/100\n",
            "38/38 [==============================] - 7s 193ms/step - loss: 0.0025\n",
            "Epoch 43/100\n",
            "38/38 [==============================] - 7s 192ms/step - loss: 0.0025\n",
            "Epoch 44/100\n",
            "38/38 [==============================] - 7s 194ms/step - loss: 0.0023\n",
            "Epoch 45/100\n",
            "38/38 [==============================] - 7s 192ms/step - loss: 0.0021\n",
            "Epoch 46/100\n",
            "38/38 [==============================] - 7s 193ms/step - loss: 0.0021\n",
            "Epoch 47/100\n",
            "38/38 [==============================] - 7s 193ms/step - loss: 0.0022\n",
            "Epoch 48/100\n",
            "38/38 [==============================] - 7s 193ms/step - loss: 0.0022\n",
            "Epoch 49/100\n",
            "38/38 [==============================] - 7s 196ms/step - loss: 0.0023\n",
            "Epoch 50/100\n",
            "38/38 [==============================] - 7s 195ms/step - loss: 0.0021\n",
            "Epoch 51/100\n",
            "38/38 [==============================] - 7s 197ms/step - loss: 0.0021\n",
            "Epoch 52/100\n",
            "38/38 [==============================] - 7s 195ms/step - loss: 0.0022\n",
            "Epoch 53/100\n",
            "38/38 [==============================] - 7s 196ms/step - loss: 0.0018\n",
            "Epoch 54/100\n",
            "38/38 [==============================] - 7s 194ms/step - loss: 0.0022\n",
            "Epoch 55/100\n",
            "38/38 [==============================] - 7s 195ms/step - loss: 0.0021\n",
            "Epoch 56/100\n",
            "38/38 [==============================] - 7s 195ms/step - loss: 0.0020\n",
            "Epoch 57/100\n",
            "38/38 [==============================] - 7s 196ms/step - loss: 0.0020\n",
            "Epoch 58/100\n",
            "38/38 [==============================] - 7s 195ms/step - loss: 0.0020\n",
            "Epoch 59/100\n",
            "38/38 [==============================] - 8s 198ms/step - loss: 0.0020\n",
            "Epoch 60/100\n",
            "38/38 [==============================] - 7s 193ms/step - loss: 0.0020\n",
            "Epoch 61/100\n",
            "38/38 [==============================] - 7s 195ms/step - loss: 0.0020\n",
            "Epoch 62/100\n",
            "38/38 [==============================] - 7s 194ms/step - loss: 0.0020\n",
            "Epoch 63/100\n",
            "38/38 [==============================] - 7s 194ms/step - loss: 0.0022\n",
            "Epoch 64/100\n",
            "38/38 [==============================] - 7s 194ms/step - loss: 0.0018\n",
            "Epoch 65/100\n",
            "38/38 [==============================] - 7s 196ms/step - loss: 0.0020\n",
            "Epoch 66/100\n",
            "38/38 [==============================] - 7s 194ms/step - loss: 0.0023\n",
            "Epoch 67/100\n",
            "38/38 [==============================] - 9s 231ms/step - loss: 0.0019\n",
            "Epoch 68/100\n",
            "38/38 [==============================] - 7s 194ms/step - loss: 0.0022\n",
            "Epoch 69/100\n",
            "38/38 [==============================] - 7s 195ms/step - loss: 0.0019\n",
            "Epoch 70/100\n",
            "38/38 [==============================] - 7s 193ms/step - loss: 0.0021\n",
            "Epoch 71/100\n",
            "38/38 [==============================] - 7s 194ms/step - loss: 0.0021\n",
            "Epoch 72/100\n",
            "38/38 [==============================] - 7s 192ms/step - loss: 0.0018\n",
            "Epoch 73/100\n",
            "38/38 [==============================] - 7s 194ms/step - loss: 0.0018\n",
            "Epoch 74/100\n",
            "38/38 [==============================] - 7s 192ms/step - loss: 0.0018\n",
            "Epoch 75/100\n",
            "38/38 [==============================] - 7s 192ms/step - loss: 0.0018\n",
            "Epoch 76/100\n",
            "38/38 [==============================] - 7s 193ms/step - loss: 0.0019\n",
            "Epoch 77/100\n",
            "38/38 [==============================] - 7s 194ms/step - loss: 0.0020\n",
            "Epoch 78/100\n",
            "38/38 [==============================] - 7s 193ms/step - loss: 0.0021\n",
            "Epoch 79/100\n",
            "38/38 [==============================] - 7s 193ms/step - loss: 0.0018\n",
            "Epoch 80/100\n",
            "38/38 [==============================] - 7s 191ms/step - loss: 0.0017\n",
            "Epoch 81/100\n",
            "38/38 [==============================] - 7s 192ms/step - loss: 0.0018\n",
            "Epoch 82/100\n",
            "38/38 [==============================] - 7s 191ms/step - loss: 0.0017\n",
            "Epoch 83/100\n",
            "38/38 [==============================] - 7s 191ms/step - loss: 0.0019\n",
            "Epoch 84/100\n",
            "38/38 [==============================] - 7s 191ms/step - loss: 0.0018\n",
            "Epoch 85/100\n",
            "38/38 [==============================] - 7s 192ms/step - loss: 0.0016\n",
            "Epoch 86/100\n",
            "38/38 [==============================] - 7s 191ms/step - loss: 0.0018\n",
            "Epoch 87/100\n",
            "38/38 [==============================] - 7s 192ms/step - loss: 0.0016\n",
            "Epoch 88/100\n",
            "38/38 [==============================] - 7s 191ms/step - loss: 0.0015\n",
            "Epoch 89/100\n",
            "38/38 [==============================] - 7s 192ms/step - loss: 0.0016\n",
            "Epoch 90/100\n",
            "38/38 [==============================] - 7s 192ms/step - loss: 0.0017\n",
            "Epoch 91/100\n",
            "38/38 [==============================] - 7s 192ms/step - loss: 0.0018\n",
            "Epoch 92/100\n",
            "38/38 [==============================] - 7s 192ms/step - loss: 0.0017\n",
            "Epoch 93/100\n",
            "38/38 [==============================] - 7s 190ms/step - loss: 0.0016\n",
            "Epoch 94/100\n",
            "38/38 [==============================] - 7s 191ms/step - loss: 0.0017\n",
            "Epoch 95/100\n",
            "38/38 [==============================] - 7s 192ms/step - loss: 0.0017\n",
            "Epoch 96/100\n",
            "38/38 [==============================] - 7s 194ms/step - loss: 0.0017\n",
            "Epoch 97/100\n",
            "38/38 [==============================] - 7s 194ms/step - loss: 0.0019\n",
            "Epoch 98/100\n",
            "38/38 [==============================] - 7s 192ms/step - loss: 0.0016\n",
            "Epoch 99/100\n",
            "38/38 [==============================] - 7s 192ms/step - loss: 0.0016\n",
            "Epoch 100/100\n",
            "38/38 [==============================] - 7s 196ms/step - loss: 0.0019\n"
          ]
        },
        {
          "output_type": "execute_result",
          "data": {
            "text/plain": [
              "<keras.callbacks.History at 0x7fc562cb4c40>"
            ]
          },
          "metadata": {},
          "execution_count": 31
        }
      ],
      "source": [
        "model.fit(x_train, y_train, batch_size = 32, epochs = 100)"
      ]
    },
    {
      "cell_type": "markdown",
      "metadata": {
        "id": "Wv72i0QGdPxV"
      },
      "source": [
        "Step 5: Making Predictions"
      ]
    },
    {
      "cell_type": "code",
      "execution_count": null,
      "metadata": {
        "colab": {
          "base_uri": "https://localhost:8080/",
          "height": 74
        },
        "id": "cQ0HoxQKd9uL",
        "outputId": "220857bf-2152-4dff-b808-d168752fa8ff"
      },
      "outputs": [
        {
          "output_type": "display_data",
          "data": {
            "text/plain": [
              "<IPython.core.display.HTML object>"
            ],
            "text/html": [
              "\n",
              "     <input type=\"file\" id=\"files-49fa7214-9011-4558-8e97-96dd73e9e9a9\" name=\"files[]\" multiple disabled\n",
              "        style=\"border:none\" />\n",
              "     <output id=\"result-49fa7214-9011-4558-8e97-96dd73e9e9a9\">\n",
              "      Upload widget is only available when the cell has been executed in the\n",
              "      current browser session. Please rerun this cell to enable.\n",
              "      </output>\n",
              "      <script>// Copyright 2017 Google LLC\n",
              "//\n",
              "// Licensed under the Apache License, Version 2.0 (the \"License\");\n",
              "// you may not use this file except in compliance with the License.\n",
              "// You may obtain a copy of the License at\n",
              "//\n",
              "//      http://www.apache.org/licenses/LICENSE-2.0\n",
              "//\n",
              "// Unless required by applicable law or agreed to in writing, software\n",
              "// distributed under the License is distributed on an \"AS IS\" BASIS,\n",
              "// WITHOUT WARRANTIES OR CONDITIONS OF ANY KIND, either express or implied.\n",
              "// See the License for the specific language governing permissions and\n",
              "// limitations under the License.\n",
              "\n",
              "/**\n",
              " * @fileoverview Helpers for google.colab Python module.\n",
              " */\n",
              "(function(scope) {\n",
              "function span(text, styleAttributes = {}) {\n",
              "  const element = document.createElement('span');\n",
              "  element.textContent = text;\n",
              "  for (const key of Object.keys(styleAttributes)) {\n",
              "    element.style[key] = styleAttributes[key];\n",
              "  }\n",
              "  return element;\n",
              "}\n",
              "\n",
              "// Max number of bytes which will be uploaded at a time.\n",
              "const MAX_PAYLOAD_SIZE = 100 * 1024;\n",
              "\n",
              "function _uploadFiles(inputId, outputId) {\n",
              "  const steps = uploadFilesStep(inputId, outputId);\n",
              "  const outputElement = document.getElementById(outputId);\n",
              "  // Cache steps on the outputElement to make it available for the next call\n",
              "  // to uploadFilesContinue from Python.\n",
              "  outputElement.steps = steps;\n",
              "\n",
              "  return _uploadFilesContinue(outputId);\n",
              "}\n",
              "\n",
              "// This is roughly an async generator (not supported in the browser yet),\n",
              "// where there are multiple asynchronous steps and the Python side is going\n",
              "// to poll for completion of each step.\n",
              "// This uses a Promise to block the python side on completion of each step,\n",
              "// then passes the result of the previous step as the input to the next step.\n",
              "function _uploadFilesContinue(outputId) {\n",
              "  const outputElement = document.getElementById(outputId);\n",
              "  const steps = outputElement.steps;\n",
              "\n",
              "  const next = steps.next(outputElement.lastPromiseValue);\n",
              "  return Promise.resolve(next.value.promise).then((value) => {\n",
              "    // Cache the last promise value to make it available to the next\n",
              "    // step of the generator.\n",
              "    outputElement.lastPromiseValue = value;\n",
              "    return next.value.response;\n",
              "  });\n",
              "}\n",
              "\n",
              "/**\n",
              " * Generator function which is called between each async step of the upload\n",
              " * process.\n",
              " * @param {string} inputId Element ID of the input file picker element.\n",
              " * @param {string} outputId Element ID of the output display.\n",
              " * @return {!Iterable<!Object>} Iterable of next steps.\n",
              " */\n",
              "function* uploadFilesStep(inputId, outputId) {\n",
              "  const inputElement = document.getElementById(inputId);\n",
              "  inputElement.disabled = false;\n",
              "\n",
              "  const outputElement = document.getElementById(outputId);\n",
              "  outputElement.innerHTML = '';\n",
              "\n",
              "  const pickedPromise = new Promise((resolve) => {\n",
              "    inputElement.addEventListener('change', (e) => {\n",
              "      resolve(e.target.files);\n",
              "    });\n",
              "  });\n",
              "\n",
              "  const cancel = document.createElement('button');\n",
              "  inputElement.parentElement.appendChild(cancel);\n",
              "  cancel.textContent = 'Cancel upload';\n",
              "  const cancelPromise = new Promise((resolve) => {\n",
              "    cancel.onclick = () => {\n",
              "      resolve(null);\n",
              "    };\n",
              "  });\n",
              "\n",
              "  // Wait for the user to pick the files.\n",
              "  const files = yield {\n",
              "    promise: Promise.race([pickedPromise, cancelPromise]),\n",
              "    response: {\n",
              "      action: 'starting',\n",
              "    }\n",
              "  };\n",
              "\n",
              "  cancel.remove();\n",
              "\n",
              "  // Disable the input element since further picks are not allowed.\n",
              "  inputElement.disabled = true;\n",
              "\n",
              "  if (!files) {\n",
              "    return {\n",
              "      response: {\n",
              "        action: 'complete',\n",
              "      }\n",
              "    };\n",
              "  }\n",
              "\n",
              "  for (const file of files) {\n",
              "    const li = document.createElement('li');\n",
              "    li.append(span(file.name, {fontWeight: 'bold'}));\n",
              "    li.append(span(\n",
              "        `(${file.type || 'n/a'}) - ${file.size} bytes, ` +\n",
              "        `last modified: ${\n",
              "            file.lastModifiedDate ? file.lastModifiedDate.toLocaleDateString() :\n",
              "                                    'n/a'} - `));\n",
              "    const percent = span('0% done');\n",
              "    li.appendChild(percent);\n",
              "\n",
              "    outputElement.appendChild(li);\n",
              "\n",
              "    const fileDataPromise = new Promise((resolve) => {\n",
              "      const reader = new FileReader();\n",
              "      reader.onload = (e) => {\n",
              "        resolve(e.target.result);\n",
              "      };\n",
              "      reader.readAsArrayBuffer(file);\n",
              "    });\n",
              "    // Wait for the data to be ready.\n",
              "    let fileData = yield {\n",
              "      promise: fileDataPromise,\n",
              "      response: {\n",
              "        action: 'continue',\n",
              "      }\n",
              "    };\n",
              "\n",
              "    // Use a chunked sending to avoid message size limits. See b/62115660.\n",
              "    let position = 0;\n",
              "    do {\n",
              "      const length = Math.min(fileData.byteLength - position, MAX_PAYLOAD_SIZE);\n",
              "      const chunk = new Uint8Array(fileData, position, length);\n",
              "      position += length;\n",
              "\n",
              "      const base64 = btoa(String.fromCharCode.apply(null, chunk));\n",
              "      yield {\n",
              "        response: {\n",
              "          action: 'append',\n",
              "          file: file.name,\n",
              "          data: base64,\n",
              "        },\n",
              "      };\n",
              "\n",
              "      let percentDone = fileData.byteLength === 0 ?\n",
              "          100 :\n",
              "          Math.round((position / fileData.byteLength) * 100);\n",
              "      percent.textContent = `${percentDone}% done`;\n",
              "\n",
              "    } while (position < fileData.byteLength);\n",
              "  }\n",
              "\n",
              "  // All done.\n",
              "  yield {\n",
              "    response: {\n",
              "      action: 'complete',\n",
              "    }\n",
              "  };\n",
              "}\n",
              "\n",
              "scope.google = scope.google || {};\n",
              "scope.google.colab = scope.google.colab || {};\n",
              "scope.google.colab._files = {\n",
              "  _uploadFiles,\n",
              "  _uploadFilesContinue,\n",
              "};\n",
              "})(self);\n",
              "</script> "
            ]
          },
          "metadata": {}
        },
        {
          "output_type": "stream",
          "name": "stdout",
          "text": [
            "Saving G.Test2.csv to G.Test2 (1).csv\n"
          ]
        }
      ],
      "source": [
        "# importing the dataset\n",
        "from google.colab import files\n",
        "upload = files.upload()"
      ]
    },
    {
      "cell_type": "code",
      "execution_count": null,
      "metadata": {
        "id": "2JyuL6y5dUBi"
      },
      "outputs": [],
      "source": [
        "# Getting the real stock prices of month November 2022\n",
        "\n",
        "test_data = pd.read_csv(\"/content/G.Test2.csv\")"
      ]
    },
    {
      "cell_type": "code",
      "execution_count": null,
      "metadata": {
        "id": "wph4KGcHphvF",
        "colab": {
          "base_uri": "https://localhost:8080/"
        },
        "outputId": "4d1850be-f42b-436d-e826-a5157dec1ba3"
      },
      "outputs": [
        {
          "output_type": "execute_result",
          "data": {
            "text/plain": [
              "(20, 7)"
            ]
          },
          "metadata": {},
          "execution_count": 34
        }
      ],
      "source": [
        "test_data.shape"
      ]
    },
    {
      "cell_type": "code",
      "execution_count": null,
      "metadata": {
        "colab": {
          "base_uri": "https://localhost:8080/"
        },
        "id": "KEu1508Mpmes",
        "outputId": "0c85381e-0b85-469e-becf-a22fa97c32f1"
      },
      "outputs": [
        {
          "output_type": "stream",
          "name": "stdout",
          "text": [
            "<class 'pandas.core.frame.DataFrame'>\n",
            "RangeIndex: 20 entries, 0 to 19\n",
            "Data columns (total 7 columns):\n",
            " #   Column     Non-Null Count  Dtype  \n",
            "---  ------     --------------  -----  \n",
            " 0   Date       20 non-null     object \n",
            " 1   Open       20 non-null     float64\n",
            " 2   High       20 non-null     float64\n",
            " 3   Low        20 non-null     float64\n",
            " 4   Close      20 non-null     float64\n",
            " 5   Adj Close  20 non-null     float64\n",
            " 6   Volume     20 non-null     int64  \n",
            "dtypes: float64(5), int64(1), object(1)\n",
            "memory usage: 1.2+ KB\n"
          ]
        }
      ],
      "source": [
        "test_data.info()"
      ]
    },
    {
      "cell_type": "code",
      "execution_count": null,
      "metadata": {
        "id": "WLm9me3Hpr4e"
      },
      "outputs": [],
      "source": [
        "real_stock_price = test_data.iloc[:, 1:2].values"
      ]
    },
    {
      "cell_type": "code",
      "execution_count": null,
      "metadata": {
        "colab": {
          "base_uri": "https://localhost:8080/"
        },
        "id": "dfjpd_1Up-zP",
        "outputId": "2d33e778-15f3-4f3c-86b3-ed4d656b9e86"
      },
      "outputs": [
        {
          "output_type": "execute_result",
          "data": {
            "text/plain": [
              "array([[95.589996],\n",
              "       [90.910004],\n",
              "       [86.345001],\n",
              "       [85.510002],\n",
              "       [87.339996],\n",
              "       [89.160004],\n",
              "       [88.544998],\n",
              "       [92.339996],\n",
              "       [94.709999],\n",
              "       [95.5     ],\n",
              "       [98.669998],\n",
              "       [98.019997],\n",
              "       [97.18    ],\n",
              "       [99.010002],\n",
              "       [97.559998],\n",
              "       [96.160004],\n",
              "       [97.339996],\n",
              "       [98.464996],\n",
              "       [97.199997],\n",
              "       [96.      ]])"
            ]
          },
          "metadata": {},
          "execution_count": 37
        }
      ],
      "source": [
        "real_stock_price"
      ]
    },
    {
      "cell_type": "code",
      "execution_count": null,
      "metadata": {
        "colab": {
          "base_uri": "https://localhost:8080/"
        },
        "id": "NxvvhlxYqWT7",
        "outputId": "74820ab9-e78f-427f-9fcf-00410f8cd705"
      },
      "outputs": [
        {
          "output_type": "execute_result",
          "data": {
            "text/plain": [
              "(20, 1)"
            ]
          },
          "metadata": {},
          "execution_count": 38
        }
      ],
      "source": [
        "real_stock_price.shape"
      ]
    },
    {
      "cell_type": "code",
      "execution_count": null,
      "metadata": {
        "colab": {
          "base_uri": "https://localhost:8080/"
        },
        "id": "BUMKjTZdqvhR",
        "outputId": "bcaaa8fd-f15f-469a-9ad5-7e3ca35c0bb2"
      },
      "outputs": [
        {
          "output_type": "stream",
          "name": "stdout",
          "text": [
            "1/1 [==============================] - 1s 658ms/step\n"
          ]
        }
      ],
      "source": [
        "# Getting predicted stock prices of month December 2022\n",
        "# Concatination\n",
        "dataset_total = pd.concat((training[\"Open\"], test_data[\"Open\"]), axis = 0)\n",
        "\n",
        "# Here we are concatenating on the basis of rows and not on the basis of columns\n",
        "\n",
        "# Stock prices of previous 60 days for each day of Decemer 2022\n",
        "inputs =  dataset_total[len(dataset_total) - len(test_data) - 60:].values\n",
        "\n",
        "#reshape (converting into numpy array)\n",
        "inputs = inputs.reshape(-1, 1)\n",
        "\n",
        "# feature scaling\n",
        "inputs = sc.transform(inputs)\n",
        "\n",
        "# creating a test set\n",
        "\n",
        "x_test = []\n",
        "for i in range(60, 80):\n",
        "  x_test.append(inputs[i-60:i, 0])\n",
        "\n",
        "# convert in numpy array\n",
        "x_test = np.array(x_test)\n",
        "\n",
        "# Convert in 3D (required to process)\n",
        "x_test = np.reshape(x_test, (x_test.shape[0], x_test.shape[1], 1))\n",
        "\n",
        "\n",
        "# getting predicted stock prices\n",
        "predicted_stock_price = model.predict(x_test)\n",
        "predicted_stock_price = sc.inverse_transform(predicted_stock_price)\n",
        "\n"
      ]
    },
    {
      "cell_type": "code",
      "execution_count": null,
      "metadata": {
        "id": "bHBp6Ey6rivW",
        "colab": {
          "base_uri": "https://localhost:8080/"
        },
        "outputId": "bf0b8447-a39d-4c33-c791-6c99236365e5"
      },
      "outputs": [
        {
          "output_type": "stream",
          "name": "stdout",
          "text": [
            "[97.470245]\n",
            "[95.589996]\n"
          ]
        },
        {
          "output_type": "execute_result",
          "data": {
            "text/plain": [
              "(None, None)"
            ]
          },
          "metadata": {},
          "execution_count": 40
        }
      ],
      "source": [
        "print(predicted_stock_price[0]), print(real_stock_price[0])"
      ]
    },
    {
      "cell_type": "code",
      "source": [],
      "metadata": {
        "id": "QjoC4bS8_NS5"
      },
      "execution_count": null,
      "outputs": []
    },
    {
      "cell_type": "markdown",
      "source": [
        "Step 6: Visualization\n",
        "\n",
        "\n"
      ],
      "metadata": {
        "id": "hq2Aaeu0g0Nm"
      }
    },
    {
      "cell_type": "code",
      "source": [
        "# Visualizing the results\n",
        "plt.plot(real_stock_price, color = \"red\", label = \"Google Stock Price\")\n",
        "\n",
        "plt.plot(predicted_stock_price, color = \"blue\", label = \"Predicted Google Stock Price\")\n",
        "plt.title(\"Google Stock Price Predictions\")\n",
        "plt.xlabel(\"Time\")\n",
        "plt.ylabel(\"Google Stock Price\")\n",
        "plt.legend()\n",
        "plt.show()"
      ],
      "metadata": {
        "colab": {
          "base_uri": "https://localhost:8080/",
          "height": 295
        },
        "id": "n3W0rD-Vg7LK",
        "outputId": "8b4bc55c-6388-43aa-b29f-7141436583db"
      },
      "execution_count": null,
      "outputs": [
        {
          "output_type": "display_data",
          "data": {
            "text/plain": [
              "<Figure size 432x288 with 1 Axes>"
            ],
            "image/png": "[encoded data removed]"
          },
          "metadata": {
            "needs_background": "light"
          }
        }
      ]
    },
    {
      "cell_type": "code",
      "source": [],
      "metadata": {
        "id": "PvVTOZpmintm"
      },
      "execution_count": null,
      "outputs": []
    }
  ],
  "metadata": {
    "colab": {
      "provenance": [],
      "toc_visible": true
    },
    "kernelspec": {
      "display_name": "Python 3",
      "name": "python3"
    },
    "language_info": {
      "name": "python"
    }
  },
  "nbformat": 4,
  "nbformat_minor": 0
}